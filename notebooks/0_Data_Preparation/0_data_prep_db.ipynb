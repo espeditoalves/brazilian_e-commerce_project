{
 "cells": [
  {
   "cell_type": "code",
   "execution_count": 1,
   "metadata": {},
   "outputs": [
    {
     "name": "stdout",
     "output_type": "stream",
     "text": [
      "Caminho do diretório atual: /home/jovyan/work\n",
      "Python executable: /home/jovyan/.cache/pypoetry/virtualenvs/brazilian-e-commerce-project-WFljCIXp-py3.11/bin/python\n"
     ]
    }
   ],
   "source": [
    "import os\n",
    "import sys\n",
    "sys.path.append('/home/jovyan/work')\n",
    "# Exibir o caminho do diretório atual\n",
    "print(\"Caminho do diretório atual (logado):\", os.getcwd())\n",
    "print(\"Python executable:\", sys.executable)"
   ]
  },
  {
   "cell_type": "code",
   "execution_count": null,
   "metadata": {},
   "outputs": [],
   "source": [
    "from dotenv import load_dotenv \n",
    "# Carregar variáveis de ambiente do arquivo .env\n",
    "load_dotenv(os.path.join('config', '.env'))"
   ]
  },
  {
   "cell_type": "code",
   "execution_count": null,
   "metadata": {},
   "outputs": [],
   "source": [
    "import psycopg2\n",
    "from psycopg2 import sql\n",
    "import pandas as pd\n",
    "from sqlalchemy import create_engine\n",
    "from pandas import DataFrame\n",
    "\n",
    "# Configuração da conexão com o banco de dados\n",
    "# Parâmetros de conexão\n",
    "host = os.getenv('DB_HOST') # Nome do serviço no Docker\n",
    "user = os.getenv('DB_USER')\n",
    "password = os.getenv('DB_PASSWORD')\n",
    "port = os.getenv('DB_PORT')\n",
    "dbname = os.getenv('DB_NAME')\n",
    "new_dbname = os.getenv('NEW_DBNAME')  # Nome do novo banco de dados"
   ]
  },
  {
   "cell_type": "markdown",
   "metadata": {},
   "source": [
    "## Prepara Banco SQL\n",
    "\n",
    "Este notebook tem o objetivo de criar um banco de dados dentro do postgre_db para inserir os dados das bases CSV presentes na pasta `data\\archive`."
   ]
  },
  {
   "cell_type": "code",
   "execution_count": 3,
   "metadata": {},
   "outputs": [
    {
     "name": "stdout",
     "output_type": "stream",
     "text": [
      "Erro ao criar o banco de dados: database \"brasilian_e_commerce\" already exists\n",
      "\n"
     ]
    }
   ],
   "source": [
    "def create_database(\n",
    "        host: str, \n",
    "        user: str, \n",
    "        password: str, \n",
    "        port: str, \n",
    "        dbname: str, \n",
    "        new_dbname: str) -> None:\n",
    "    \"\"\"\n",
    "    Cria um novo banco de dados.\n",
    "\n",
    "    Args:\n",
    "        host (str): Nome do serviço no Docker.\n",
    "        user (str): Nome do usuário do banco de dados.\n",
    "        password (str): Senha do banco de dados.\n",
    "        port (str): Porta de conexão ao banco de dados.\n",
    "        dbname (str): Nome do banco de dados existente ao qual conectar.\n",
    "        new_dbname (str): Nome do novo banco de dados a ser criado.\n",
    "\n",
    "    Returns:\n",
    "        None\n",
    "    \"\"\"\n",
    "    conn = None  # Inicializa conn como None\n",
    "    try:\n",
    "        # Conectar ao banco de dados existente\n",
    "        conn = psycopg2.connect(\n",
    "            dbname=dbname,\n",
    "            user=user,\n",
    "            password=password,\n",
    "            host=host,\n",
    "            port=port\n",
    "        )\n",
    "        conn.autocommit = True\n",
    "\n",
    "        # Criar um cursor\n",
    "        cursor = conn.cursor()\n",
    "\n",
    "        # Criar o novo banco de dados\n",
    "        cursor.execute(sql.SQL(\"CREATE DATABASE {}\").format(\n",
    "            sql.Identifier(new_dbname))\n",
    "        )\n",
    "\n",
    "        print(f\"Banco de dados '{new_dbname}' criado com sucesso!\")\n",
    "\n",
    "    except Exception as e:\n",
    "        print(f\"Erro ao criar o banco de dados: {e}\")\n",
    "\n",
    "    finally:\n",
    "        # Fechar a conexão\n",
    "        if conn:\n",
    "            cursor.close()\n",
    "            conn.close()\n",
    "\n",
    "# Criar o novo banco de dados\n",
    "create_database(host, user, password, port, dbname, new_dbname)\n"
   ]
  },
  {
   "cell_type": "code",
   "execution_count": 4,
   "metadata": {},
   "outputs": [],
   "source": [
    "def salvar_dataframe_postgresql(\n",
    "    df: DataFrame, \n",
    "    table_name: str, \n",
    "    host: str = host, \n",
    "    user: str = user, \n",
    "    password: str= password, \n",
    "    port: str = port, \n",
    "    dbname: str = new_dbname\n",
    ") -> None:\n",
    "    \"\"\"\n",
    "    Salva um DataFrame Pandas em uma tabela do banco de dados PostgreSQL.\n",
    "\n",
    "    Parâmetros:\n",
    "    df (DataFrame): DataFrame a ser salvo.\n",
    "    table_name (str): Nome da tabela no PostgreSQL.\n",
    "    user (str): Usuário do PostgreSQL.\n",
    "    password (str): Senha do PostgreSQL.\n",
    "    host (str): Host onde o PostgreSQL está rodando (ex: 'localhost').\n",
    "    port (str): Porta do PostgreSQL (ex: '5432').\n",
    "    dbname (str): Nome do banco de dados PostgreSQL.\n",
    "\n",
    "    Retorno:\n",
    "    None\n",
    "    \"\"\"\n",
    "    try:\n",
    "        # Criando o engine de conexão\n",
    "        engine = create_engine(f'postgresql+psycopg2://{user}:{password}@{host}:{port}/{dbname}')\n",
    "        \n",
    "        # Salvando o DataFrame no PostgreSQL\n",
    "        df.to_sql(table_name, engine, if_exists='replace', index=False)\n",
    "        print(f\"Dados salvos com sucesso na tabela '{table_name}' no PostgreSQL!\")\n",
    "    \n",
    "    except Exception as e:\n",
    "        print(f\"Erro ao salvar os dados: {e}\")\n"
   ]
  },
  {
   "cell_type": "code",
   "execution_count": 5,
   "metadata": {},
   "outputs": [],
   "source": [
    "olist_customers = pd.read_csv(\"/home/jovyan/work/data/archive/olist_customers_dataset.csv\")\n",
    "olist_order_items = pd.read_csv(\"/home/jovyan/work/data/archive/olist_order_items_dataset.csv\")\n",
    "olist_order_payments = pd.read_csv(\"/home/jovyan/work/data/archive/olist_order_payments_dataset.csv\")\n",
    "olist_order_reviews = pd.read_csv(\"/home/jovyan/work/data/archive/olist_order_reviews_dataset.csv\")\n",
    "olist_orders = pd.read_csv(\"/home/jovyan/work/data/archive/olist_orders_dataset.csv\")\n",
    "olist_products = pd.read_csv(\"/home/jovyan/work/data/archive/olist_products_dataset.csv\")\n",
    "olist_sellers = pd.read_csv(\"/home/jovyan/work/data/archive/olist_sellers_dataset.csv\")\n",
    "pdt_cat_name_trans = pd.read_csv(\"/home/jovyan/work/data/archive/product_category_name_translation.csv\")"
   ]
  },
  {
   "cell_type": "code",
   "execution_count": 6,
   "metadata": {},
   "outputs": [
    {
     "name": "stdout",
     "output_type": "stream",
     "text": [
      "Dados salvos com sucesso na tabela 'olist_customers' no PostgreSQL!\n"
     ]
    }
   ],
   "source": [
    "salvar_dataframe_postgresql(olist_customers, 'olist_customers')"
   ]
  },
  {
   "cell_type": "code",
   "execution_count": 7,
   "metadata": {},
   "outputs": [
    {
     "name": "stdout",
     "output_type": "stream",
     "text": [
      "Dados salvos com sucesso na tabela 'olist_order_items' no PostgreSQL!\n"
     ]
    }
   ],
   "source": [
    "salvar_dataframe_postgresql(olist_order_items, 'olist_order_items')"
   ]
  },
  {
   "cell_type": "code",
   "execution_count": 8,
   "metadata": {},
   "outputs": [
    {
     "name": "stdout",
     "output_type": "stream",
     "text": [
      "Dados salvos com sucesso na tabela 'olist_order_payments' no PostgreSQL!\n"
     ]
    }
   ],
   "source": [
    "salvar_dataframe_postgresql(olist_order_payments, 'olist_order_payments')"
   ]
  },
  {
   "cell_type": "code",
   "execution_count": 9,
   "metadata": {},
   "outputs": [
    {
     "name": "stdout",
     "output_type": "stream",
     "text": [
      "Dados salvos com sucesso na tabela 'olist_order_reviews' no PostgreSQL!\n"
     ]
    }
   ],
   "source": [
    "salvar_dataframe_postgresql(olist_order_reviews, 'olist_order_reviews')"
   ]
  },
  {
   "cell_type": "code",
   "execution_count": 10,
   "metadata": {},
   "outputs": [
    {
     "name": "stdout",
     "output_type": "stream",
     "text": [
      "Dados salvos com sucesso na tabela 'olist_orders' no PostgreSQL!\n"
     ]
    }
   ],
   "source": [
    "salvar_dataframe_postgresql(olist_orders, 'olist_orders')"
   ]
  },
  {
   "cell_type": "code",
   "execution_count": 11,
   "metadata": {},
   "outputs": [
    {
     "name": "stdout",
     "output_type": "stream",
     "text": [
      "Dados salvos com sucesso na tabela 'olist_products' no PostgreSQL!\n"
     ]
    }
   ],
   "source": [
    "salvar_dataframe_postgresql(olist_products, 'olist_products')"
   ]
  },
  {
   "cell_type": "code",
   "execution_count": 12,
   "metadata": {},
   "outputs": [
    {
     "name": "stdout",
     "output_type": "stream",
     "text": [
      "Dados salvos com sucesso na tabela 'olist_sellers' no PostgreSQL!\n"
     ]
    }
   ],
   "source": [
    "salvar_dataframe_postgresql(olist_sellers, 'olist_sellers')"
   ]
  },
  {
   "cell_type": "code",
   "execution_count": 13,
   "metadata": {},
   "outputs": [
    {
     "name": "stdout",
     "output_type": "stream",
     "text": [
      "Dados salvos com sucesso na tabela 'pdt_cat_name_trans' no PostgreSQL!\n"
     ]
    }
   ],
   "source": [
    "salvar_dataframe_postgresql(pdt_cat_name_trans, 'pdt_cat_name_trans')"
   ]
  }
 ],
 "metadata": {
  "kernelspec": {
   "display_name": "ambiente_brazilian",
   "language": "python",
   "name": "brazilian_e-commerce_project-ambiente_exploratorio-1"
  }
 },
 "nbformat": 4,
 "nbformat_minor": 2
}
